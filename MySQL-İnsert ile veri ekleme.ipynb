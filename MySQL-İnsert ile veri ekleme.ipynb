{
 "cells": [
  {
   "cell_type": "code",
   "execution_count": 9,
   "id": "54c319fa",
   "metadata": {},
   "outputs": [
    {
     "name": "stdout",
     "output_type": "stream",
     "text": [
      "ADI GİR: NOKİA\n",
      "Price GİR: 1000\n",
      "İmg Gir: noki.jpg\n",
      "Desc Gir:Yılan oyunu için aldım :)\n",
      "DO YOU WANT TO RESUME:(y/n)y\n",
      "ADI GİR: Reeder\n",
      "Price GİR: 500\n",
      "İmg Gir: reed.jpg\n",
      "Desc Gir:f/p ürünü\n",
      "DO YOU WANT TO RESUME:(y/n)n\n",
      "INFORMATİONS ARE LOODİNG...\n",
      "[('NOKİA', '1000', 'noki.jpg', 'Yılan oyunu için aldım :)'), ('Reeder', '500', 'reed.jpg', 'f/p ürünü')]\n",
      "2: INFORMATİON ADDED\n"
     ]
    }
   ],
   "source": [
    "import mysql.connector\n",
    "\n",
    "def insertProduct(list):\n",
    "    connection=mysql.connector.connect(user='root', password='emre2178',host='localhost',auth_plugin='mysql_native_password',database='note-app')\n",
    "    cursor=connection.cursor()\n",
    "    \n",
    "    sql=\"INSERT INTO Products(name,price,imageUrl,decription) VALUES (%s,%s,%s,%s)\"\n",
    "    values=list\n",
    "    \n",
    "    # TANIMLANAN BİLGİLER GÖNDERİLMEK ÜZERE HAZIRLANIR\n",
    "    cursor.executemany(sql,values)\n",
    "    \n",
    "    try:\n",
    "        # COMMİT İLE GÖNDERİLİR\n",
    "        connection.commit()\n",
    "        print(f\"{cursor.rowcount}: INFORMATİON ADDED\")\n",
    "        \n",
    "    except mysql.connector.errors as ex:\n",
    "        print(ex)\n",
    "        \n",
    "    finally:\n",
    "        connection.close()\n",
    "        \n",
    "    \n",
    "    \n",
    "    \n",
    "    \n",
    "list=[]    \n",
    "while True:\n",
    "    name=input(\"ADI GİR: \")\n",
    "    price=input(\"Price GİR: \")\n",
    "    imageUrl=input(\"İmg Gir: \")\n",
    "    decription=input(\"Desc Gir:\")\n",
    "    \n",
    "    # TUPLE OLARAK EKLEDİK\n",
    "    list.append((name,price,imageUrl,decription))\n",
    "    \n",
    "    result=input(\"DO YOU WANT TO RESUME:(y/n)\")\n",
    "    \n",
    "    if result == \"y\":\n",
    "        continue\n",
    "        \n",
    "    elif result == \"n\":\n",
    "        print(\"INFORMATİONS ARE LOODİNG...\")\n",
    "        print(list)\n",
    "        insertProduct(list)\n",
    "        break\n",
    "        \n",
    "    else:\n",
    "        print(\"YOU MADE A MİSTAGE\")\n",
    "        break"
   ]
  },
  {
   "cell_type": "code",
   "execution_count": null,
   "id": "d6b842b9",
   "metadata": {},
   "outputs": [],
   "source": []
  }
 ],
 "metadata": {
  "kernelspec": {
   "display_name": "Python 3 (ipykernel)",
   "language": "python",
   "name": "python3"
  },
  "language_info": {
   "codemirror_mode": {
    "name": "ipython",
    "version": 3
   },
   "file_extension": ".py",
   "mimetype": "text/x-python",
   "name": "python",
   "nbconvert_exporter": "python",
   "pygments_lexer": "ipython3",
   "version": "3.9.7"
  }
 },
 "nbformat": 4,
 "nbformat_minor": 5
}
